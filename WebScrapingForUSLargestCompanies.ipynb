{
 "cells": [
  {
   "cell_type": "code",
   "execution_count": 1,
   "id": "0675f9d5",
   "metadata": {},
   "outputs": [],
   "source": [
    "from bs4 import BeautifulSoup ## BeautifulSoup is used for parsing HTML and XML data.\n",
    "import requests # The requests library is used to send HTTP requests to web servers."
   ]
  },
  {
   "cell_type": "code",
   "execution_count": 2,
   "id": "87283b5e",
   "metadata": {},
   "outputs": [],
   "source": [
    "url=\"https://en.wikipedia.org/wiki/List_of_largest_companies_in_the_United_States_by_revenue\"\n",
    "page = requests.get(url)\n",
    "soup = BeautifulSoup(page.text, 'html')\n"
   ]
  },
  {
   "cell_type": "code",
   "execution_count": 8,
   "id": "471f72a9",
   "metadata": {},
   "outputs": [],
   "source": [
    "table = soup.find_all('table')[1]"
   ]
  },
  {
   "cell_type": "code",
   "execution_count": 9,
   "id": "c1593a9f",
   "metadata": {},
   "outputs": [
    {
     "name": "stdout",
     "output_type": "stream",
     "text": [
      "[<th>Rank\n",
      "</th>, <th>Name\n",
      "</th>, <th>Industry\n",
      "</th>, <th>Revenue <br/>(USD millions)\n",
      "</th>, <th>Revenue growth\n",
      "</th>, <th>Employees\n",
      "</th>, <th>Headquarters\n",
      "</th>]\n"
     ]
    }
   ],
   "source": [
    "tableheadings = table.find_all('th')\n",
    "print(tableheadings)"
   ]
  },
  {
   "cell_type": "code",
   "execution_count": 10,
   "id": "a09e98b3",
   "metadata": {},
   "outputs": [
    {
     "name": "stdout",
     "output_type": "stream",
     "text": [
      "['Rank', 'Name', 'Industry', 'Revenue (USD millions)', 'Revenue growth', 'Employees', 'Headquarters']\n"
     ]
    }
   ],
   "source": [
    "tableheadingsclean = [heading.text.strip() for heading in tableheadings]\n",
    "\n",
    "print(tableheadingsclean)"
   ]
  },
  {
   "cell_type": "code",
   "execution_count": 11,
   "id": "a2c160cd",
   "metadata": {},
   "outputs": [],
   "source": [
    "import pandas as pd\n",
    "df = pd.DataFrame(columns = tableheadingsclean)\n"
   ]
  },
  {
   "cell_type": "code",
   "execution_count": 12,
   "id": "69d7a7bf",
   "metadata": {},
   "outputs": [],
   "source": [
    "tablerows = table.find_all('tr')[1:]\n",
    "\n"
   ]
  },
  {
   "cell_type": "code",
   "execution_count": 13,
   "id": "287abc4a",
   "metadata": {},
   "outputs": [
    {
     "data": {
      "text/html": [
       "<div>\n",
       "<style scoped>\n",
       "    .dataframe tbody tr th:only-of-type {\n",
       "        vertical-align: middle;\n",
       "    }\n",
       "\n",
       "    .dataframe tbody tr th {\n",
       "        vertical-align: top;\n",
       "    }\n",
       "\n",
       "    .dataframe thead th {\n",
       "        text-align: right;\n",
       "    }\n",
       "</style>\n",
       "<table border=\"1\" class=\"dataframe\">\n",
       "  <thead>\n",
       "    <tr style=\"text-align: right;\">\n",
       "      <th></th>\n",
       "      <th>Rank</th>\n",
       "      <th>Name</th>\n",
       "      <th>Industry</th>\n",
       "      <th>Revenue (USD millions)</th>\n",
       "      <th>Revenue growth</th>\n",
       "      <th>Employees</th>\n",
       "      <th>Headquarters</th>\n",
       "    </tr>\n",
       "  </thead>\n",
       "  <tbody>\n",
       "  </tbody>\n",
       "</table>\n",
       "</div>"
      ],
      "text/plain": [
       "Empty DataFrame\n",
       "Columns: [Rank, Name, Industry, Revenue (USD millions), Revenue growth, Employees, Headquarters]\n",
       "Index: []"
      ]
     },
     "execution_count": 13,
     "metadata": {},
     "output_type": "execute_result"
    }
   ],
   "source": [
    "df"
   ]
  },
  {
   "cell_type": "code",
   "execution_count": 14,
   "id": "1839b9d8",
   "metadata": {},
   "outputs": [],
   "source": [
    "for row in tablerows:\n",
    "    row_data = row.find_all('td')\n",
    "    cleanrow_data = [data.text.strip() for data in row_data]\n",
    "    length = len(df)\n",
    "    df.loc[length] = cleanrow_data\n"
   ]
  },
  {
   "cell_type": "code",
   "execution_count": 89,
   "id": "6189e274",
   "metadata": {},
   "outputs": [
    {
     "data": {
      "text/html": [
       "<div>\n",
       "<style scoped>\n",
       "    .dataframe tbody tr th:only-of-type {\n",
       "        vertical-align: middle;\n",
       "    }\n",
       "\n",
       "    .dataframe tbody tr th {\n",
       "        vertical-align: top;\n",
       "    }\n",
       "\n",
       "    .dataframe thead th {\n",
       "        text-align: right;\n",
       "    }\n",
       "</style>\n",
       "<table border=\"1\" class=\"dataframe\">\n",
       "  <thead>\n",
       "    <tr style=\"text-align: right;\">\n",
       "      <th></th>\n",
       "      <th>Rank</th>\n",
       "      <th>Name</th>\n",
       "      <th>Industry</th>\n",
       "      <th>Revenue (USD millions)</th>\n",
       "      <th>Revenue growth</th>\n",
       "      <th>Employees</th>\n",
       "      <th>Headquarters</th>\n",
       "    </tr>\n",
       "  </thead>\n",
       "  <tbody>\n",
       "    <tr>\n",
       "      <th>0</th>\n",
       "      <td>1</td>\n",
       "      <td>Walmart</td>\n",
       "      <td>General merchandisers</td>\n",
       "      <td>572,754</td>\n",
       "      <td>2.4%</td>\n",
       "      <td>2,300,000</td>\n",
       "      <td>Bentonville, Arkansas</td>\n",
       "    </tr>\n",
       "    <tr>\n",
       "      <th>1</th>\n",
       "      <td>2</td>\n",
       "      <td>Amazon</td>\n",
       "      <td>Retail and Cloud Computing</td>\n",
       "      <td>469,822</td>\n",
       "      <td>21.7%</td>\n",
       "      <td>1,608,000</td>\n",
       "      <td>Seattle, Washington</td>\n",
       "    </tr>\n",
       "    <tr>\n",
       "      <th>2</th>\n",
       "      <td>3</td>\n",
       "      <td>Apple</td>\n",
       "      <td>Electronics industry</td>\n",
       "      <td>365,817</td>\n",
       "      <td>33.2%</td>\n",
       "      <td>154,000</td>\n",
       "      <td>Cupertino, California</td>\n",
       "    </tr>\n",
       "    <tr>\n",
       "      <th>3</th>\n",
       "      <td>4</td>\n",
       "      <td>CVS Health</td>\n",
       "      <td>Healthcare</td>\n",
       "      <td>292,111</td>\n",
       "      <td>32.0%</td>\n",
       "      <td>258,000</td>\n",
       "      <td>Woonsocket, Rhode Island</td>\n",
       "    </tr>\n",
       "    <tr>\n",
       "      <th>4</th>\n",
       "      <td>5</td>\n",
       "      <td>UnitedHealth Group</td>\n",
       "      <td>Healthcare</td>\n",
       "      <td>287,597</td>\n",
       "      <td>11.8%</td>\n",
       "      <td>350,000</td>\n",
       "      <td>Minnetonka, Minnesota</td>\n",
       "    </tr>\n",
       "    <tr>\n",
       "      <th>...</th>\n",
       "      <td>...</td>\n",
       "      <td>...</td>\n",
       "      <td>...</td>\n",
       "      <td>...</td>\n",
       "      <td>...</td>\n",
       "      <td>...</td>\n",
       "      <td>...</td>\n",
       "    </tr>\n",
       "    <tr>\n",
       "      <th>195</th>\n",
       "      <td>96</td>\n",
       "      <td>General Dynamics</td>\n",
       "      <td>Airspace and defense</td>\n",
       "      <td>38,469</td>\n",
       "      <td>8.7%</td>\n",
       "      <td>103,100</td>\n",
       "      <td>Reston, Virginia</td>\n",
       "    </tr>\n",
       "    <tr>\n",
       "      <th>196</th>\n",
       "      <td>97</td>\n",
       "      <td>CHS</td>\n",
       "      <td>Agriculture cooperative</td>\n",
       "      <td>38,448</td>\n",
       "      <td>1.4%</td>\n",
       "      <td>9,941</td>\n",
       "      <td>Inver Grove Heights, Minnesota</td>\n",
       "    </tr>\n",
       "    <tr>\n",
       "      <th>197</th>\n",
       "      <td>98</td>\n",
       "      <td>USAA</td>\n",
       "      <td>Financials</td>\n",
       "      <td>37,470</td>\n",
       "      <td>3.2%</td>\n",
       "      <td>37,335</td>\n",
       "      <td>San Antonio, Texas</td>\n",
       "    </tr>\n",
       "    <tr>\n",
       "      <th>198</th>\n",
       "      <td>99</td>\n",
       "      <td>Northwestern Mutual</td>\n",
       "      <td>Insurance</td>\n",
       "      <td>36,751</td>\n",
       "      <td>8.8%</td>\n",
       "      <td>7,585</td>\n",
       "      <td>Milwaukee, Wisconsin</td>\n",
       "    </tr>\n",
       "    <tr>\n",
       "      <th>199</th>\n",
       "      <td>100</td>\n",
       "      <td>Nucor</td>\n",
       "      <td>Metals</td>\n",
       "      <td>36,484</td>\n",
       "      <td>81.2%</td>\n",
       "      <td>28,800</td>\n",
       "      <td>Charlotte, North Carolina</td>\n",
       "    </tr>\n",
       "  </tbody>\n",
       "</table>\n",
       "<p>200 rows × 7 columns</p>\n",
       "</div>"
      ],
      "text/plain": [
       "    Rank                 Name                    Industry  \\\n",
       "0      1              Walmart       General merchandisers   \n",
       "1      2               Amazon  Retail and Cloud Computing   \n",
       "2      3                Apple        Electronics industry   \n",
       "3      4           CVS Health                  Healthcare   \n",
       "4      5   UnitedHealth Group                  Healthcare   \n",
       "..   ...                  ...                         ...   \n",
       "195   96     General Dynamics        Airspace and defense   \n",
       "196   97                  CHS     Agriculture cooperative   \n",
       "197   98                 USAA                  Financials   \n",
       "198   99  Northwestern Mutual                   Insurance   \n",
       "199  100                Nucor                      Metals   \n",
       "\n",
       "    Revenue (USD millions) Revenue growth  Employees  \\\n",
       "0                  572,754           2.4%  2,300,000   \n",
       "1                  469,822          21.7%  1,608,000   \n",
       "2                  365,817          33.2%    154,000   \n",
       "3                  292,111          32.0%    258,000   \n",
       "4                  287,597          11.8%    350,000   \n",
       "..                     ...            ...        ...   \n",
       "195                 38,469           8.7%    103,100   \n",
       "196                 38,448           1.4%      9,941   \n",
       "197                 37,470           3.2%     37,335   \n",
       "198                 36,751           8.8%      7,585   \n",
       "199                 36,484          81.2%     28,800   \n",
       "\n",
       "                       Headquarters  \n",
       "0             Bentonville, Arkansas  \n",
       "1               Seattle, Washington  \n",
       "2             Cupertino, California  \n",
       "3          Woonsocket, Rhode Island  \n",
       "4             Minnetonka, Minnesota  \n",
       "..                              ...  \n",
       "195                Reston, Virginia  \n",
       "196  Inver Grove Heights, Minnesota  \n",
       "197              San Antonio, Texas  \n",
       "198            Milwaukee, Wisconsin  \n",
       "199       Charlotte, North Carolina  \n",
       "\n",
       "[200 rows x 7 columns]"
      ]
     },
     "execution_count": 89,
     "metadata": {},
     "output_type": "execute_result"
    }
   ],
   "source": [
    "df"
   ]
  },
  {
   "cell_type": "code",
   "execution_count": 17,
   "id": "e298e828",
   "metadata": {},
   "outputs": [],
   "source": [
    "df.to_csv(r'F:\\webscraping\\USLargestCompanies.csv', index = False)"
   ]
  },
  {
   "cell_type": "code",
   "execution_count": null,
   "id": "c314b17f",
   "metadata": {},
   "outputs": [],
   "source": []
  }
 ],
 "metadata": {
  "kernelspec": {
   "display_name": "Python 3 (ipykernel)",
   "language": "python",
   "name": "python3"
  },
  "language_info": {
   "codemirror_mode": {
    "name": "ipython",
    "version": 3
   },
   "file_extension": ".py",
   "mimetype": "text/x-python",
   "name": "python",
   "nbconvert_exporter": "python",
   "pygments_lexer": "ipython3",
   "version": "3.10.9"
  }
 },
 "nbformat": 4,
 "nbformat_minor": 5
}
